{
  "nbformat": 4,
  "nbformat_minor": 0,
  "metadata": {
    "colab": {
      "name": "Expected_Loss_Analysis_on_Lending_Club_Data.ipynb",
      "provenance": [],
      "include_colab_link": true
    },
    "kernelspec": {
      "name": "python3",
      "display_name": "Python 3"
    },
    "language_info": {
      "name": "python"
    }
  },
  "cells": [
    {
      "cell_type": "markdown",
      "metadata": {
        "id": "view-in-github",
        "colab_type": "text"
      },
      "source": [
        "<a href=\"https://colab.research.google.com/github/hemapriyamanne/Expected-Loss-Analysis-on-Lending-Club-Data/blob/main/Expected_Loss_Analysis_on_Lending_Club_Data.ipynb\" target=\"_parent\"><img src=\"https://colab.research.google.com/assets/colab-badge.svg\" alt=\"Open In Colab\"/></a>"
      ]
    },
    {
      "cell_type": "code",
      "metadata": {
        "id": "4Fs5WkkL5zoO"
      },
      "source": [
        "import pandas as pd\n",
        "import numpy as np"
      ],
      "execution_count": 1,
      "outputs": []
    },
    {
      "cell_type": "code",
      "metadata": {
        "id": "n04PA7pC7wPT",
        "colab": {
          "base_uri": "https://localhost:8080/"
        },
        "outputId": "1b241d0b-5e60-4deb-841a-0ecfc81893e4"
      },
      "source": [
        "from google.colab import drive\n",
        "drive.mount('/content/gdrive')\n"
      ],
      "execution_count": 2,
      "outputs": [
        {
          "output_type": "stream",
          "text": [
            "Mounted at /content/gdrive\n"
          ],
          "name": "stdout"
        }
      ]
    },
    {
      "cell_type": "code",
      "metadata": {
        "id": "WVCeREhebjxo"
      },
      "source": [
        "df_orig=pd.read_csv('gdrive/MyDrive/credit_risk_data/accepted_2007_to_2018Q4.csv',low_memory=False)"
      ],
      "execution_count": 3,
      "outputs": []
    },
    {
      "cell_type": "markdown",
      "metadata": {
        "id": "I5FUk6Dq_TkY"
      },
      "source": [
        "# **Intial data analysis to look at the structure and understand the features**"
      ]
    },
    {
      "cell_type": "markdown",
      "metadata": {
        "id": "4Yt5fV8yZSMt"
      },
      "source": [
        "For training our pd model, we will only look at default and fully paid loans"
      ]
    },
    {
      "cell_type": "code",
      "metadata": {
        "id": "cz1OnfPc8ACF"
      },
      "source": [
        "df = df_orig[(df_orig['loan_status']=='Fully Paid') | (df_orig['loan_status']=='Charged Off')]"
      ],
      "execution_count": 4,
      "outputs": []
    },
    {
      "cell_type": "code",
      "metadata": {
        "id": "H-BFjhwM8Ren",
        "colab": {
          "base_uri": "https://localhost:8080/",
          "height": 338
        },
        "outputId": "e125d6f8-2d09-4ffb-82c4-c316be91ac66"
      },
      "source": [
        "df.head(5)"
      ],
      "execution_count": 5,
      "outputs": [
        {
          "output_type": "execute_result",
          "data": {
            "text/html": [
              "<div>\n",
              "<style scoped>\n",
              "    .dataframe tbody tr th:only-of-type {\n",
              "        vertical-align: middle;\n",
              "    }\n",
              "\n",
              "    .dataframe tbody tr th {\n",
              "        vertical-align: top;\n",
              "    }\n",
              "\n",
              "    .dataframe thead th {\n",
              "        text-align: right;\n",
              "    }\n",
              "</style>\n",
              "<table border=\"1\" class=\"dataframe\">\n",
              "  <thead>\n",
              "    <tr style=\"text-align: right;\">\n",
              "      <th></th>\n",
              "      <th>id</th>\n",
              "      <th>member_id</th>\n",
              "      <th>loan_amnt</th>\n",
              "      <th>funded_amnt</th>\n",
              "      <th>funded_amnt_inv</th>\n",
              "      <th>term</th>\n",
              "      <th>int_rate</th>\n",
              "      <th>installment</th>\n",
              "      <th>grade</th>\n",
              "      <th>sub_grade</th>\n",
              "      <th>emp_title</th>\n",
              "      <th>emp_length</th>\n",
              "      <th>home_ownership</th>\n",
              "      <th>annual_inc</th>\n",
              "      <th>verification_status</th>\n",
              "      <th>issue_d</th>\n",
              "      <th>loan_status</th>\n",
              "      <th>pymnt_plan</th>\n",
              "      <th>url</th>\n",
              "      <th>desc</th>\n",
              "      <th>purpose</th>\n",
              "      <th>title</th>\n",
              "      <th>zip_code</th>\n",
              "      <th>addr_state</th>\n",
              "      <th>dti</th>\n",
              "      <th>delinq_2yrs</th>\n",
              "      <th>earliest_cr_line</th>\n",
              "      <th>fico_range_low</th>\n",
              "      <th>fico_range_high</th>\n",
              "      <th>inq_last_6mths</th>\n",
              "      <th>mths_since_last_delinq</th>\n",
              "      <th>mths_since_last_record</th>\n",
              "      <th>open_acc</th>\n",
              "      <th>pub_rec</th>\n",
              "      <th>revol_bal</th>\n",
              "      <th>revol_util</th>\n",
              "      <th>total_acc</th>\n",
              "      <th>initial_list_status</th>\n",
              "      <th>out_prncp</th>\n",
              "      <th>out_prncp_inv</th>\n",
              "      <th>...</th>\n",
              "      <th>tot_hi_cred_lim</th>\n",
              "      <th>total_bal_ex_mort</th>\n",
              "      <th>total_bc_limit</th>\n",
              "      <th>total_il_high_credit_limit</th>\n",
              "      <th>revol_bal_joint</th>\n",
              "      <th>sec_app_fico_range_low</th>\n",
              "      <th>sec_app_fico_range_high</th>\n",
              "      <th>sec_app_earliest_cr_line</th>\n",
              "      <th>sec_app_inq_last_6mths</th>\n",
              "      <th>sec_app_mort_acc</th>\n",
              "      <th>sec_app_open_acc</th>\n",
              "      <th>sec_app_revol_util</th>\n",
              "      <th>sec_app_open_act_il</th>\n",
              "      <th>sec_app_num_rev_accts</th>\n",
              "      <th>sec_app_chargeoff_within_12_mths</th>\n",
              "      <th>sec_app_collections_12_mths_ex_med</th>\n",
              "      <th>sec_app_mths_since_last_major_derog</th>\n",
              "      <th>hardship_flag</th>\n",
              "      <th>hardship_type</th>\n",
              "      <th>hardship_reason</th>\n",
              "      <th>hardship_status</th>\n",
              "      <th>deferral_term</th>\n",
              "      <th>hardship_amount</th>\n",
              "      <th>hardship_start_date</th>\n",
              "      <th>hardship_end_date</th>\n",
              "      <th>payment_plan_start_date</th>\n",
              "      <th>hardship_length</th>\n",
              "      <th>hardship_dpd</th>\n",
              "      <th>hardship_loan_status</th>\n",
              "      <th>orig_projected_additional_accrued_interest</th>\n",
              "      <th>hardship_payoff_balance_amount</th>\n",
              "      <th>hardship_last_payment_amount</th>\n",
              "      <th>disbursement_method</th>\n",
              "      <th>debt_settlement_flag</th>\n",
              "      <th>debt_settlement_flag_date</th>\n",
              "      <th>settlement_status</th>\n",
              "      <th>settlement_date</th>\n",
              "      <th>settlement_amount</th>\n",
              "      <th>settlement_percentage</th>\n",
              "      <th>settlement_term</th>\n",
              "    </tr>\n",
              "  </thead>\n",
              "  <tbody>\n",
              "    <tr>\n",
              "      <th>0</th>\n",
              "      <td>68407277</td>\n",
              "      <td>NaN</td>\n",
              "      <td>3600.0</td>\n",
              "      <td>3600.0</td>\n",
              "      <td>3600.0</td>\n",
              "      <td>36 months</td>\n",
              "      <td>13.99</td>\n",
              "      <td>123.03</td>\n",
              "      <td>C</td>\n",
              "      <td>C4</td>\n",
              "      <td>leadman</td>\n",
              "      <td>10+ years</td>\n",
              "      <td>MORTGAGE</td>\n",
              "      <td>55000.0</td>\n",
              "      <td>Not Verified</td>\n",
              "      <td>Dec-2015</td>\n",
              "      <td>Fully Paid</td>\n",
              "      <td>n</td>\n",
              "      <td>https://lendingclub.com/browse/loanDetail.acti...</td>\n",
              "      <td>NaN</td>\n",
              "      <td>debt_consolidation</td>\n",
              "      <td>Debt consolidation</td>\n",
              "      <td>190xx</td>\n",
              "      <td>PA</td>\n",
              "      <td>5.91</td>\n",
              "      <td>0.0</td>\n",
              "      <td>Aug-2003</td>\n",
              "      <td>675.0</td>\n",
              "      <td>679.0</td>\n",
              "      <td>1.0</td>\n",
              "      <td>30.0</td>\n",
              "      <td>NaN</td>\n",
              "      <td>7.0</td>\n",
              "      <td>0.0</td>\n",
              "      <td>2765.0</td>\n",
              "      <td>29.7</td>\n",
              "      <td>13.0</td>\n",
              "      <td>w</td>\n",
              "      <td>0.0</td>\n",
              "      <td>0.0</td>\n",
              "      <td>...</td>\n",
              "      <td>178050.0</td>\n",
              "      <td>7746.0</td>\n",
              "      <td>2400.0</td>\n",
              "      <td>13734.0</td>\n",
              "      <td>NaN</td>\n",
              "      <td>NaN</td>\n",
              "      <td>NaN</td>\n",
              "      <td>NaN</td>\n",
              "      <td>NaN</td>\n",
              "      <td>NaN</td>\n",
              "      <td>NaN</td>\n",
              "      <td>NaN</td>\n",
              "      <td>NaN</td>\n",
              "      <td>NaN</td>\n",
              "      <td>NaN</td>\n",
              "      <td>NaN</td>\n",
              "      <td>NaN</td>\n",
              "      <td>N</td>\n",
              "      <td>NaN</td>\n",
              "      <td>NaN</td>\n",
              "      <td>NaN</td>\n",
              "      <td>NaN</td>\n",
              "      <td>NaN</td>\n",
              "      <td>NaN</td>\n",
              "      <td>NaN</td>\n",
              "      <td>NaN</td>\n",
              "      <td>NaN</td>\n",
              "      <td>NaN</td>\n",
              "      <td>NaN</td>\n",
              "      <td>NaN</td>\n",
              "      <td>NaN</td>\n",
              "      <td>NaN</td>\n",
              "      <td>Cash</td>\n",
              "      <td>N</td>\n",
              "      <td>NaN</td>\n",
              "      <td>NaN</td>\n",
              "      <td>NaN</td>\n",
              "      <td>NaN</td>\n",
              "      <td>NaN</td>\n",
              "      <td>NaN</td>\n",
              "    </tr>\n",
              "    <tr>\n",
              "      <th>1</th>\n",
              "      <td>68355089</td>\n",
              "      <td>NaN</td>\n",
              "      <td>24700.0</td>\n",
              "      <td>24700.0</td>\n",
              "      <td>24700.0</td>\n",
              "      <td>36 months</td>\n",
              "      <td>11.99</td>\n",
              "      <td>820.28</td>\n",
              "      <td>C</td>\n",
              "      <td>C1</td>\n",
              "      <td>Engineer</td>\n",
              "      <td>10+ years</td>\n",
              "      <td>MORTGAGE</td>\n",
              "      <td>65000.0</td>\n",
              "      <td>Not Verified</td>\n",
              "      <td>Dec-2015</td>\n",
              "      <td>Fully Paid</td>\n",
              "      <td>n</td>\n",
              "      <td>https://lendingclub.com/browse/loanDetail.acti...</td>\n",
              "      <td>NaN</td>\n",
              "      <td>small_business</td>\n",
              "      <td>Business</td>\n",
              "      <td>577xx</td>\n",
              "      <td>SD</td>\n",
              "      <td>16.06</td>\n",
              "      <td>1.0</td>\n",
              "      <td>Dec-1999</td>\n",
              "      <td>715.0</td>\n",
              "      <td>719.0</td>\n",
              "      <td>4.0</td>\n",
              "      <td>6.0</td>\n",
              "      <td>NaN</td>\n",
              "      <td>22.0</td>\n",
              "      <td>0.0</td>\n",
              "      <td>21470.0</td>\n",
              "      <td>19.2</td>\n",
              "      <td>38.0</td>\n",
              "      <td>w</td>\n",
              "      <td>0.0</td>\n",
              "      <td>0.0</td>\n",
              "      <td>...</td>\n",
              "      <td>314017.0</td>\n",
              "      <td>39475.0</td>\n",
              "      <td>79300.0</td>\n",
              "      <td>24667.0</td>\n",
              "      <td>NaN</td>\n",
              "      <td>NaN</td>\n",
              "      <td>NaN</td>\n",
              "      <td>NaN</td>\n",
              "      <td>NaN</td>\n",
              "      <td>NaN</td>\n",
              "      <td>NaN</td>\n",
              "      <td>NaN</td>\n",
              "      <td>NaN</td>\n",
              "      <td>NaN</td>\n",
              "      <td>NaN</td>\n",
              "      <td>NaN</td>\n",
              "      <td>NaN</td>\n",
              "      <td>N</td>\n",
              "      <td>NaN</td>\n",
              "      <td>NaN</td>\n",
              "      <td>NaN</td>\n",
              "      <td>NaN</td>\n",
              "      <td>NaN</td>\n",
              "      <td>NaN</td>\n",
              "      <td>NaN</td>\n",
              "      <td>NaN</td>\n",
              "      <td>NaN</td>\n",
              "      <td>NaN</td>\n",
              "      <td>NaN</td>\n",
              "      <td>NaN</td>\n",
              "      <td>NaN</td>\n",
              "      <td>NaN</td>\n",
              "      <td>Cash</td>\n",
              "      <td>N</td>\n",
              "      <td>NaN</td>\n",
              "      <td>NaN</td>\n",
              "      <td>NaN</td>\n",
              "      <td>NaN</td>\n",
              "      <td>NaN</td>\n",
              "      <td>NaN</td>\n",
              "    </tr>\n",
              "    <tr>\n",
              "      <th>2</th>\n",
              "      <td>68341763</td>\n",
              "      <td>NaN</td>\n",
              "      <td>20000.0</td>\n",
              "      <td>20000.0</td>\n",
              "      <td>20000.0</td>\n",
              "      <td>60 months</td>\n",
              "      <td>10.78</td>\n",
              "      <td>432.66</td>\n",
              "      <td>B</td>\n",
              "      <td>B4</td>\n",
              "      <td>truck driver</td>\n",
              "      <td>10+ years</td>\n",
              "      <td>MORTGAGE</td>\n",
              "      <td>63000.0</td>\n",
              "      <td>Not Verified</td>\n",
              "      <td>Dec-2015</td>\n",
              "      <td>Fully Paid</td>\n",
              "      <td>n</td>\n",
              "      <td>https://lendingclub.com/browse/loanDetail.acti...</td>\n",
              "      <td>NaN</td>\n",
              "      <td>home_improvement</td>\n",
              "      <td>NaN</td>\n",
              "      <td>605xx</td>\n",
              "      <td>IL</td>\n",
              "      <td>10.78</td>\n",
              "      <td>0.0</td>\n",
              "      <td>Aug-2000</td>\n",
              "      <td>695.0</td>\n",
              "      <td>699.0</td>\n",
              "      <td>0.0</td>\n",
              "      <td>NaN</td>\n",
              "      <td>NaN</td>\n",
              "      <td>6.0</td>\n",
              "      <td>0.0</td>\n",
              "      <td>7869.0</td>\n",
              "      <td>56.2</td>\n",
              "      <td>18.0</td>\n",
              "      <td>w</td>\n",
              "      <td>0.0</td>\n",
              "      <td>0.0</td>\n",
              "      <td>...</td>\n",
              "      <td>218418.0</td>\n",
              "      <td>18696.0</td>\n",
              "      <td>6200.0</td>\n",
              "      <td>14877.0</td>\n",
              "      <td>NaN</td>\n",
              "      <td>NaN</td>\n",
              "      <td>NaN</td>\n",
              "      <td>NaN</td>\n",
              "      <td>NaN</td>\n",
              "      <td>NaN</td>\n",
              "      <td>NaN</td>\n",
              "      <td>NaN</td>\n",
              "      <td>NaN</td>\n",
              "      <td>NaN</td>\n",
              "      <td>NaN</td>\n",
              "      <td>NaN</td>\n",
              "      <td>NaN</td>\n",
              "      <td>N</td>\n",
              "      <td>NaN</td>\n",
              "      <td>NaN</td>\n",
              "      <td>NaN</td>\n",
              "      <td>NaN</td>\n",
              "      <td>NaN</td>\n",
              "      <td>NaN</td>\n",
              "      <td>NaN</td>\n",
              "      <td>NaN</td>\n",
              "      <td>NaN</td>\n",
              "      <td>NaN</td>\n",
              "      <td>NaN</td>\n",
              "      <td>NaN</td>\n",
              "      <td>NaN</td>\n",
              "      <td>NaN</td>\n",
              "      <td>Cash</td>\n",
              "      <td>N</td>\n",
              "      <td>NaN</td>\n",
              "      <td>NaN</td>\n",
              "      <td>NaN</td>\n",
              "      <td>NaN</td>\n",
              "      <td>NaN</td>\n",
              "      <td>NaN</td>\n",
              "    </tr>\n",
              "    <tr>\n",
              "      <th>4</th>\n",
              "      <td>68476807</td>\n",
              "      <td>NaN</td>\n",
              "      <td>10400.0</td>\n",
              "      <td>10400.0</td>\n",
              "      <td>10400.0</td>\n",
              "      <td>60 months</td>\n",
              "      <td>22.45</td>\n",
              "      <td>289.91</td>\n",
              "      <td>F</td>\n",
              "      <td>F1</td>\n",
              "      <td>Contract Specialist</td>\n",
              "      <td>3 years</td>\n",
              "      <td>MORTGAGE</td>\n",
              "      <td>104433.0</td>\n",
              "      <td>Source Verified</td>\n",
              "      <td>Dec-2015</td>\n",
              "      <td>Fully Paid</td>\n",
              "      <td>n</td>\n",
              "      <td>https://lendingclub.com/browse/loanDetail.acti...</td>\n",
              "      <td>NaN</td>\n",
              "      <td>major_purchase</td>\n",
              "      <td>Major purchase</td>\n",
              "      <td>174xx</td>\n",
              "      <td>PA</td>\n",
              "      <td>25.37</td>\n",
              "      <td>1.0</td>\n",
              "      <td>Jun-1998</td>\n",
              "      <td>695.0</td>\n",
              "      <td>699.0</td>\n",
              "      <td>3.0</td>\n",
              "      <td>12.0</td>\n",
              "      <td>NaN</td>\n",
              "      <td>12.0</td>\n",
              "      <td>0.0</td>\n",
              "      <td>21929.0</td>\n",
              "      <td>64.5</td>\n",
              "      <td>35.0</td>\n",
              "      <td>w</td>\n",
              "      <td>0.0</td>\n",
              "      <td>0.0</td>\n",
              "      <td>...</td>\n",
              "      <td>439570.0</td>\n",
              "      <td>95768.0</td>\n",
              "      <td>20300.0</td>\n",
              "      <td>88097.0</td>\n",
              "      <td>NaN</td>\n",
              "      <td>NaN</td>\n",
              "      <td>NaN</td>\n",
              "      <td>NaN</td>\n",
              "      <td>NaN</td>\n",
              "      <td>NaN</td>\n",
              "      <td>NaN</td>\n",
              "      <td>NaN</td>\n",
              "      <td>NaN</td>\n",
              "      <td>NaN</td>\n",
              "      <td>NaN</td>\n",
              "      <td>NaN</td>\n",
              "      <td>NaN</td>\n",
              "      <td>N</td>\n",
              "      <td>NaN</td>\n",
              "      <td>NaN</td>\n",
              "      <td>NaN</td>\n",
              "      <td>NaN</td>\n",
              "      <td>NaN</td>\n",
              "      <td>NaN</td>\n",
              "      <td>NaN</td>\n",
              "      <td>NaN</td>\n",
              "      <td>NaN</td>\n",
              "      <td>NaN</td>\n",
              "      <td>NaN</td>\n",
              "      <td>NaN</td>\n",
              "      <td>NaN</td>\n",
              "      <td>NaN</td>\n",
              "      <td>Cash</td>\n",
              "      <td>N</td>\n",
              "      <td>NaN</td>\n",
              "      <td>NaN</td>\n",
              "      <td>NaN</td>\n",
              "      <td>NaN</td>\n",
              "      <td>NaN</td>\n",
              "      <td>NaN</td>\n",
              "    </tr>\n",
              "    <tr>\n",
              "      <th>5</th>\n",
              "      <td>68426831</td>\n",
              "      <td>NaN</td>\n",
              "      <td>11950.0</td>\n",
              "      <td>11950.0</td>\n",
              "      <td>11950.0</td>\n",
              "      <td>36 months</td>\n",
              "      <td>13.44</td>\n",
              "      <td>405.18</td>\n",
              "      <td>C</td>\n",
              "      <td>C3</td>\n",
              "      <td>Veterinary Tecnician</td>\n",
              "      <td>4 years</td>\n",
              "      <td>RENT</td>\n",
              "      <td>34000.0</td>\n",
              "      <td>Source Verified</td>\n",
              "      <td>Dec-2015</td>\n",
              "      <td>Fully Paid</td>\n",
              "      <td>n</td>\n",
              "      <td>https://lendingclub.com/browse/loanDetail.acti...</td>\n",
              "      <td>NaN</td>\n",
              "      <td>debt_consolidation</td>\n",
              "      <td>Debt consolidation</td>\n",
              "      <td>300xx</td>\n",
              "      <td>GA</td>\n",
              "      <td>10.20</td>\n",
              "      <td>0.0</td>\n",
              "      <td>Oct-1987</td>\n",
              "      <td>690.0</td>\n",
              "      <td>694.0</td>\n",
              "      <td>0.0</td>\n",
              "      <td>NaN</td>\n",
              "      <td>NaN</td>\n",
              "      <td>5.0</td>\n",
              "      <td>0.0</td>\n",
              "      <td>8822.0</td>\n",
              "      <td>68.4</td>\n",
              "      <td>6.0</td>\n",
              "      <td>w</td>\n",
              "      <td>0.0</td>\n",
              "      <td>0.0</td>\n",
              "      <td>...</td>\n",
              "      <td>16900.0</td>\n",
              "      <td>12798.0</td>\n",
              "      <td>9400.0</td>\n",
              "      <td>4000.0</td>\n",
              "      <td>NaN</td>\n",
              "      <td>NaN</td>\n",
              "      <td>NaN</td>\n",
              "      <td>NaN</td>\n",
              "      <td>NaN</td>\n",
              "      <td>NaN</td>\n",
              "      <td>NaN</td>\n",
              "      <td>NaN</td>\n",
              "      <td>NaN</td>\n",
              "      <td>NaN</td>\n",
              "      <td>NaN</td>\n",
              "      <td>NaN</td>\n",
              "      <td>NaN</td>\n",
              "      <td>N</td>\n",
              "      <td>NaN</td>\n",
              "      <td>NaN</td>\n",
              "      <td>NaN</td>\n",
              "      <td>NaN</td>\n",
              "      <td>NaN</td>\n",
              "      <td>NaN</td>\n",
              "      <td>NaN</td>\n",
              "      <td>NaN</td>\n",
              "      <td>NaN</td>\n",
              "      <td>NaN</td>\n",
              "      <td>NaN</td>\n",
              "      <td>NaN</td>\n",
              "      <td>NaN</td>\n",
              "      <td>NaN</td>\n",
              "      <td>Cash</td>\n",
              "      <td>N</td>\n",
              "      <td>NaN</td>\n",
              "      <td>NaN</td>\n",
              "      <td>NaN</td>\n",
              "      <td>NaN</td>\n",
              "      <td>NaN</td>\n",
              "      <td>NaN</td>\n",
              "    </tr>\n",
              "  </tbody>\n",
              "</table>\n",
              "<p>5 rows × 151 columns</p>\n",
              "</div>"
            ],
            "text/plain": [
              "         id  member_id  ...  settlement_percentage  settlement_term\n",
              "0  68407277        NaN  ...                    NaN              NaN\n",
              "1  68355089        NaN  ...                    NaN              NaN\n",
              "2  68341763        NaN  ...                    NaN              NaN\n",
              "4  68476807        NaN  ...                    NaN              NaN\n",
              "5  68426831        NaN  ...                    NaN              NaN\n",
              "\n",
              "[5 rows x 151 columns]"
            ]
          },
          "metadata": {
            "tags": []
          },
          "execution_count": 5
        }
      ]
    },
    {
      "cell_type": "markdown",
      "metadata": {
        "id": "HtJ42XiKv1zr"
      },
      "source": [
        "Changing the variable to binary classifier"
      ]
    },
    {
      "cell_type": "code",
      "metadata": {
        "id": "P0tXF1WH_2-x",
        "colab": {
          "base_uri": "https://localhost:8080/"
        },
        "outputId": "a7afb55a-367d-465b-fe36-2f2e13513a24"
      },
      "source": [
        "df['loan_status_bin'] = df['loan_status'].map({'Charged Off': 1, 'Fully Paid': 0})"
      ],
      "execution_count": 6,
      "outputs": [
        {
          "output_type": "stream",
          "text": [
            "/usr/local/lib/python3.7/dist-packages/ipykernel_launcher.py:1: SettingWithCopyWarning: \n",
            "A value is trying to be set on a copy of a slice from a DataFrame.\n",
            "Try using .loc[row_indexer,col_indexer] = value instead\n",
            "\n",
            "See the caveats in the documentation: https://pandas.pydata.org/pandas-docs/stable/user_guide/indexing.html#returning-a-view-versus-a-copy\n",
            "  \"\"\"Entry point for launching an IPython kernel.\n"
          ],
          "name": "stderr"
        }
      ]
    },
    {
      "cell_type": "markdown",
      "metadata": {
        "id": "TaqIkK0nAKpc"
      },
      "source": [
        "**Looking at feature grade**"
      ]
    },
    {
      "cell_type": "markdown",
      "metadata": {
        "id": "049LsDv3v69N"
      },
      "source": [
        "Looking at the number of cutomers accepted in each grade, we can see that the grades with high number of customers are 'B' and 'C'"
      ]
    },
    {
      "cell_type": "code",
      "metadata": {
        "colab": {
          "base_uri": "https://localhost:8080/",
          "height": 280
        },
        "id": "NE8nrNLs_7S8",
        "outputId": "4832fa86-b097-4e71-eaaa-4616f0dee908"
      },
      "source": [
        "(df['grade'].value_counts().sort_index()/len(df)).plot.bar()"
      ],
      "execution_count": 7,
      "outputs": [
        {
          "output_type": "execute_result",
          "data": {
            "text/plain": [
              "<matplotlib.axes._subplots.AxesSubplot at 0x7f2089d5cd50>"
            ]
          },
          "metadata": {
            "tags": []
          },
          "execution_count": 7
        },
        {
          "output_type": "display_data",
          "data": {
            "image/png": "[encoded data removed]",
            "text/plain": [
              "<Figure size 432x288 with 1 Axes>"
            ]
          },
          "metadata": {
            "tags": [],
            "needs_background": "light"
          }
        }
      ]
    },
    {
      "cell_type": "markdown",
      "metadata": {
        "id": "QeisAQnRAR20"
      },
      "source": [
        "**Looking at feature employment length**"
      ]
    },
    {
      "cell_type": "markdown",
      "metadata": {
        "id": "WyZIxIp0wJ7_"
      },
      "source": [
        "Before we can have a look at the distribution of the employment length we need to transform it into numerical values"
      ]
    },
    {
      "cell_type": "code",
      "metadata": {
        "colab": {
          "base_uri": "https://localhost:8080/",
          "height": 396
        },
        "id": "pIdDOqX6_-e_",
        "outputId": "949ef8a9-b986-4858-b34e-5e7a2d139c79"
      },
      "source": [
        "def emp_to_num(term):\n",
        "    if pd.isna(term):\n",
        "        return None\n",
        "    elif term[2]=='+':\n",
        "        return 10\n",
        "    elif term[0]=='<':\n",
        "        return 0\n",
        "    else:\n",
        "        return int(term[0])\n",
        "\n",
        "df['emp_length_num'] = df['emp_length'].apply(emp_to_num)\n",
        "(df['emp_length_num'].value_counts().sort_index()/len(df)).plot.bar()"
      ],
      "execution_count": 8,
      "outputs": [
        {
          "output_type": "stream",
          "text": [
            "/usr/local/lib/python3.7/dist-packages/ipykernel_launcher.py:11: SettingWithCopyWarning: \n",
            "A value is trying to be set on a copy of a slice from a DataFrame.\n",
            "Try using .loc[row_indexer,col_indexer] = value instead\n",
            "\n",
            "See the caveats in the documentation: https://pandas.pydata.org/pandas-docs/stable/user_guide/indexing.html#returning-a-view-versus-a-copy\n",
            "  # This is added back by InteractiveShellApp.init_path()\n"
          ],
          "name": "stderr"
        },
        {
          "output_type": "execute_result",
          "data": {
            "text/plain": [
              "<matplotlib.axes._subplots.AxesSubplot at 0x7f2089c37610>"
            ]
          },
          "metadata": {
            "tags": []
          },
          "execution_count": 8
        },
        {
          "output_type": "display_data",
          "data": {
            "image/png": "[encoded data removed]",
            "text/plain": [
              "<Figure size 432x288 with 1 Axes>"
            ]
          },
          "metadata": {
            "tags": [],
            "needs_background": "light"
          }
        }
      ]
    },
    {
      "cell_type": "code",
      "metadata": {
        "colab": {
          "base_uri": "https://localhost:8080/",
          "height": 309
        },
        "id": "1RKwn9efAFUd",
        "outputId": "9b6e1b29-362f-44c5-8e6f-ffb51cd4f8b1"
      },
      "source": [
        "df.groupby('emp_length_num')['loan_status_bin'].mean().plot.bar()"
      ],
      "execution_count": 9,
      "outputs": [
        {
          "output_type": "execute_result",
          "data": {
            "text/plain": [
              "<matplotlib.axes._subplots.AxesSubplot at 0x7f2089c49150>"
            ]
          },
          "metadata": {
            "tags": []
          },
          "execution_count": 9
        },
        {
          "output_type": "display_data",
          "data": {
            "image/png": "[encoded data removed]",
            "text/plain": [
              "<Figure size 432x288 with 1 Axes>"
            ]
          },
          "metadata": {
            "tags": [],
            "needs_background": "light"
          }
        }
      ]
    },
    {
      "cell_type": "markdown",
      "metadata": {
        "id": "8zPH6LIoweZF"
      },
      "source": [
        "Plotting the relation between employment length and default rate, we can see that there is no relation,i.e almost 2 to 9 have the same default rate, only <= 1 has a slightly higher and >10 has a slightly lower rate,so we will just divide the employment length into 2 variables 10+ and <=1 year"
      ]
    },
    {
      "cell_type": "code",
      "metadata": {
        "id": "3KaeHIVuAJl8",
        "colab": {
          "base_uri": "https://localhost:8080/"
        },
        "outputId": "3371e4b0-8303-46a8-ae3e-d276adece0f7"
      },
      "source": [
        "df['long_emp'] = df['emp_length'].apply(lambda x: 1*(x=='10+ years'))\n",
        "df['short_emp'] = df['emp_length'].apply(lambda x: 1*(x=='1 year' or x=='< 1 year'))"
      ],
      "execution_count": 10,
      "outputs": [
        {
          "output_type": "stream",
          "text": [
            "/usr/local/lib/python3.7/dist-packages/ipykernel_launcher.py:1: SettingWithCopyWarning: \n",
            "A value is trying to be set on a copy of a slice from a DataFrame.\n",
            "Try using .loc[row_indexer,col_indexer] = value instead\n",
            "\n",
            "See the caveats in the documentation: https://pandas.pydata.org/pandas-docs/stable/user_guide/indexing.html#returning-a-view-versus-a-copy\n",
            "  \"\"\"Entry point for launching an IPython kernel.\n",
            "/usr/local/lib/python3.7/dist-packages/ipykernel_launcher.py:2: SettingWithCopyWarning: \n",
            "A value is trying to be set on a copy of a slice from a DataFrame.\n",
            "Try using .loc[row_indexer,col_indexer] = value instead\n",
            "\n",
            "See the caveats in the documentation: https://pandas.pydata.org/pandas-docs/stable/user_guide/indexing.html#returning-a-view-versus-a-copy\n",
            "  \n"
          ],
          "name": "stderr"
        }
      ]
    },
    {
      "cell_type": "markdown",
      "metadata": {
        "id": "CszE81HQxHgF"
      },
      "source": [
        "**Let's have a look at the distribution of interest rate**"
      ]
    },
    {
      "cell_type": "code",
      "metadata": {
        "colab": {
          "base_uri": "https://localhost:8080/",
          "height": 295
        },
        "id": "wxoViSeVANd5",
        "outputId": "28faecda-882f-4579-f6de-cbd7d3409121"
      },
      "source": [
        "(df['int_rate']/len(df)).plot.hist(bins=10)"
      ],
      "execution_count": 11,
      "outputs": [
        {
          "output_type": "execute_result",
          "data": {
            "text/plain": [
              "<matplotlib.axes._subplots.AxesSubplot at 0x7f20896d48d0>"
            ]
          },
          "metadata": {
            "tags": []
          },
          "execution_count": 11
        },
        {
          "output_type": "display_data",
          "data": {
            "image/png": "[encoded data removed]",
            "text/plain": [
              "<Figure size 432x288 with 1 Axes>"
            ]
          },
          "metadata": {
            "tags": [],
            "needs_background": "light"
          }
        }
      ]
    },
    {
      "cell_type": "markdown",
      "metadata": {
        "id": "neJVkAzBxPB7"
      },
      "source": [
        "**Let's have a look at the distribution of annual income**"
      ]
    },
    {
      "cell_type": "markdown",
      "metadata": {
        "id": "UUeetqfbAbd4"
      },
      "source": [
        "This seems so be log-normal-distributed so we do a log-transform."
      ]
    },
    {
      "cell_type": "code",
      "metadata": {
        "colab": {
          "base_uri": "https://localhost:8080/",
          "height": 367
        },
        "id": "kSUiB3wIAQ8l",
        "outputId": "305a13ef-6044-4318-cfa0-45b5d24e4c20"
      },
      "source": [
        "df[df['annual_inc']<200000]['annual_inc'].plot.hist(bins=20)\n",
        "df['annual_inc_log'] = df['annual_inc'].apply(np.log)"
      ],
      "execution_count": 12,
      "outputs": [
        {
          "output_type": "stream",
          "text": [
            "/usr/local/lib/python3.7/dist-packages/ipykernel_launcher.py:2: SettingWithCopyWarning: \n",
            "A value is trying to be set on a copy of a slice from a DataFrame.\n",
            "Try using .loc[row_indexer,col_indexer] = value instead\n",
            "\n",
            "See the caveats in the documentation: https://pandas.pydata.org/pandas-docs/stable/user_guide/indexing.html#returning-a-view-versus-a-copy\n",
            "  \n"
          ],
          "name": "stderr"
        },
        {
          "output_type": "display_data",
          "data": {
            "image/png": "[encoded data removed]",
            "text/plain": [
              "<Figure size 432x288 with 1 Axes>"
            ]
          },
          "metadata": {
            "tags": [],
            "needs_background": "light"
          }
        }
      ]
    },
    {
      "cell_type": "markdown",
      "metadata": {
        "id": "QWu6094VAdlU"
      },
      "source": [
        "**Looking at feature purpose**"
      ]
    },
    {
      "cell_type": "markdown",
      "metadata": {
        "id": "gFsDzLQ6xcKf"
      },
      "source": [
        "We can see that the most frequent purpose is debt consolidation"
      ]
    },
    {
      "cell_type": "code",
      "metadata": {
        "colab": {
          "base_uri": "https://localhost:8080/",
          "height": 386
        },
        "id": "ffzMLjJ8AYNr",
        "outputId": "93ca8ccf-1980-47b0-fc81-84df6a720e15"
      },
      "source": [
        "(df['purpose'].value_counts()/len(df)).plot.bar()"
      ],
      "execution_count": null,
      "outputs": [
        {
          "output_type": "execute_result",
          "data": {
            "text/plain": [
              "<matplotlib.axes._subplots.AxesSubplot at 0x7f6223669650>"
            ]
          },
          "metadata": {
            "tags": []
          },
          "execution_count": 313
        },
        {
          "output_type": "display_data",
          "data": {
            "image/png": "[encoded data removed]",
            "text/plain": [
              "<Figure size 432x288 with 1 Axes>"
            ]
          },
          "metadata": {
            "tags": []
          }
        }
      ]
    },
    {
      "cell_type": "markdown",
      "metadata": {
        "id": "tFlEOATKAjlO"
      },
      "source": [
        "**Looking at the relationship between grade,default rate and interest rate**"
      ]
    },
    {
      "cell_type": "markdown",
      "metadata": {
        "id": "5FuHMJaIxipI"
      },
      "source": [
        "We can see almost a linear relation between default rate and grade"
      ]
    },
    {
      "cell_type": "code",
      "metadata": {
        "colab": {
          "base_uri": "https://localhost:8080/",
          "height": 302
        },
        "id": "_2j4X0jMAgXE",
        "outputId": "4abca1a7-ef8d-43f8-a33d-9bc6ab0b1d3d"
      },
      "source": [
        "df.groupby('grade')['loan_status_bin'].mean().plot.line()"
      ],
      "execution_count": null,
      "outputs": [
        {
          "output_type": "execute_result",
          "data": {
            "text/plain": [
              "<matplotlib.axes._subplots.AxesSubplot at 0x7f62235b56d0>"
            ]
          },
          "metadata": {
            "tags": []
          },
          "execution_count": 314
        },
        {
          "output_type": "display_data",
          "data": {
            "image/png": "[encoded data removed]",
            "text/plain": [
              "<Figure size 432x288 with 1 Axes>"
            ]
          },
          "metadata": {
            "tags": []
          }
        }
      ]
    },
    {
      "cell_type": "markdown",
      "metadata": {
        "id": "UaEWUwkUxu82"
      },
      "source": [
        "\n",
        "\n",
        "```\n",
        "# This is formatted as code\n",
        "```\n",
        "\n",
        "We can also see an almost linear relation between interest rate and grade"
      ]
    },
    {
      "cell_type": "code",
      "metadata": {
        "colab": {
          "base_uri": "https://localhost:8080/",
          "height": 302
        },
        "id": "FbI4LaJ8AkMQ",
        "outputId": "eea7dd19-b423-49ba-b2b0-6706549e1419"
      },
      "source": [
        "df.groupby('grade')['int_rate'].mean().plot.line(color='blue')"
      ],
      "execution_count": null,
      "outputs": [
        {
          "output_type": "execute_result",
          "data": {
            "text/plain": [
              "<matplotlib.axes._subplots.AxesSubplot at 0x7f622352b9d0>"
            ]
          },
          "metadata": {
            "tags": []
          },
          "execution_count": 315
        },
        {
          "output_type": "display_data",
          "data": {
            "image/png": "[encoded data removed]",
            "text/plain": [
              "<Figure size 432x288 with 1 Axes>"
            ]
          },
          "metadata": {
            "tags": []
          }
        }
      ]
    },
    {
      "cell_type": "markdown",
      "metadata": {
        "id": "XfhN8Gm7x15F"
      },
      "source": [
        "This means that there is also a linear relationship between interest rate and default rate which is an interesting observation, we will look into this later"
      ]
    },
    {
      "cell_type": "markdown",
      "metadata": {
        "id": "vtpy84AmAt78"
      },
      "source": [
        "**Looking at feature term**"
      ]
    },
    {
      "cell_type": "markdown",
      "metadata": {
        "id": "To5Sdc5Lymjb"
      },
      "source": [
        "As we can see there are only two possible values for the term on Lending Club, i.e. 36 months or 60 months."
      ]
    },
    {
      "cell_type": "code",
      "metadata": {
        "colab": {
          "base_uri": "https://localhost:8080/",
          "height": 353
        },
        "id": "4oJJyVYwAn-D",
        "outputId": "eda1848d-e0c6-4126-af73-60d0a7996d51"
      },
      "source": [
        "(df['term'].value_counts()/len(df)).plot.bar(title='value counts')"
      ],
      "execution_count": null,
      "outputs": [
        {
          "output_type": "execute_result",
          "data": {
            "text/plain": [
              "<matplotlib.axes._subplots.AxesSubplot at 0x7f622349c390>"
            ]
          },
          "metadata": {
            "tags": []
          },
          "execution_count": 316
        },
        {
          "output_type": "display_data",
          "data": {
            "image/png": "[encoded data removed]",
            "text/plain": [
              "<Figure size 432x288 with 1 Axes>"
            ]
          },
          "metadata": {
            "tags": []
          }
        }
      ]
    },
    {
      "cell_type": "markdown",
      "metadata": {
        "id": "2r8U7FSpzA1f"
      },
      "source": [
        "The accounts with a higher term have a significant higher default rate."
      ]
    },
    {
      "cell_type": "code",
      "metadata": {
        "colab": {
          "base_uri": "https://localhost:8080/",
          "height": 370
        },
        "id": "GdImfgxhAt6p",
        "outputId": "2978fdb5-ccbf-4902-c01d-f2429c12f963"
      },
      "source": [
        "df.groupby('term')['loan_status_bin'].mean().plot.bar(title='default rate')"
      ],
      "execution_count": null,
      "outputs": [
        {
          "output_type": "execute_result",
          "data": {
            "text/plain": [
              "<matplotlib.axes._subplots.AxesSubplot at 0x7f62233d4350>"
            ]
          },
          "metadata": {
            "tags": []
          },
          "execution_count": 317
        },
        {
          "output_type": "display_data",
          "data": {
            "image/png": "[encoded data removed]",
            "text/plain": [
              "<Figure size 432x288 with 1 Axes>"
            ]
          },
          "metadata": {
            "tags": []
          }
        }
      ]
    },
    {
      "cell_type": "markdown",
      "metadata": {
        "id": "YHshW4xoAy6u"
      },
      "source": [
        "**Looking at feature homeownership**"
      ]
    },
    {
      "cell_type": "markdown",
      "metadata": {
        "id": "4vl6lxzOzFd0"
      },
      "source": [
        "Doing the same with homeownership, the distribution among accounts is as follows"
      ]
    },
    {
      "cell_type": "code",
      "metadata": {
        "colab": {
          "base_uri": "https://localhost:8080/",
          "height": 354
        },
        "id": "MHIsf9mYAxoo",
        "outputId": "c3547b16-d894-44c3-8ecf-0042d76b78a5"
      },
      "source": [
        "(df['home_ownership'].value_counts()/len(df)).plot.bar(title='value counts')"
      ],
      "execution_count": null,
      "outputs": [
        {
          "output_type": "execute_result",
          "data": {
            "text/plain": [
              "<matplotlib.axes._subplots.AxesSubplot at 0x7f62232c64d0>"
            ]
          },
          "metadata": {
            "tags": []
          },
          "execution_count": 319
        },
        {
          "output_type": "display_data",
          "data": {
            "image/png": "[encoded data removed]",
            "text/plain": [
              "<Figure size 432x288 with 1 Axes>"
            ]
          },
          "metadata": {
            "tags": []
          }
        }
      ]
    },
    {
      "cell_type": "markdown",
      "metadata": {
        "id": "cdZEE-hKzLq8"
      },
      "source": [
        "We can see that the default is higher in people who rent or own when compared to mortagage"
      ]
    },
    {
      "cell_type": "code",
      "metadata": {
        "colab": {
          "base_uri": "https://localhost:8080/",
          "height": 371
        },
        "id": "qJ_H82EDA2d5",
        "outputId": "c6e240fe-3843-49e9-e5c5-6289a2230698"
      },
      "source": [
        "df[(df['home_ownership']=='MORTGAGE') | (df['home_ownership']=='OWN')| (df['home_ownership']=='RENT')].groupby('home_ownership')['loan_status_bin'].mean().plot.bar(title='default rate')"
      ],
      "execution_count": null,
      "outputs": [
        {
          "output_type": "execute_result",
          "data": {
            "text/plain": [
              "<matplotlib.axes._subplots.AxesSubplot at 0x7f62232f5f10>"
            ]
          },
          "metadata": {
            "tags": []
          },
          "execution_count": 320
        },
        {
          "output_type": "display_data",
          "data": {
            "image/png": "[encoded data removed]",
            "text/plain": [
              "<Figure size 432x288 with 1 Axes>"
            ]
          },
          "metadata": {
            "tags": []
          }
        }
      ]
    },
    {
      "cell_type": "markdown",
      "metadata": {
        "id": "sGPDXHTZA5RE"
      },
      "source": [
        "**Looking at feature FICO score**"
      ]
    },
    {
      "cell_type": "markdown",
      "metadata": {
        "id": "J34sz0wrzd3V"
      },
      "source": [
        "Taking a look at the fico score, we can see that most of out customers are in the FICO range 600-750"
      ]
    },
    {
      "cell_type": "code",
      "metadata": {
        "colab": {
          "base_uri": "https://localhost:8080/",
          "height": 301
        },
        "id": "1q88kwziA554",
        "outputId": "931d1365-6c56-4fb1-b3d0-0765fe7107b8"
      },
      "source": [
        "df['fico_range_high'].plot.hist(bins=20, title='FICO-Score')"
      ],
      "execution_count": null,
      "outputs": [
        {
          "output_type": "execute_result",
          "data": {
            "text/plain": [
              "<matplotlib.axes._subplots.AxesSubplot at 0x7f6223210810>"
            ]
          },
          "metadata": {
            "tags": []
          },
          "execution_count": 321
        },
        {
          "output_type": "display_data",
          "data": {
            "image/png": "[encoded data removed]",
            "text/plain": [
              "<Figure size 432x288 with 1 Axes>"
            ]
          },
          "metadata": {
            "tags": []
          }
        }
      ]
    },
    {
      "cell_type": "markdown",
      "metadata": {
        "id": "LpaA0UuXA9cd"
      },
      "source": [
        "**Looking at feature installment**"
      ]
    },
    {
      "cell_type": "markdown",
      "metadata": {
        "id": "lWGrA6X1zng1"
      },
      "source": [
        "Also looking at the distribution for installment"
      ]
    },
    {
      "cell_type": "code",
      "metadata": {
        "colab": {
          "base_uri": "https://localhost:8080/",
          "height": 301
        },
        "id": "HK8pwOiHA9dZ",
        "outputId": "2712ceff-e63f-495c-d8fe-e50631a6caf6"
      },
      "source": [
        "df['installment'].plot.hist(bins=40, title='installment')"
      ],
      "execution_count": null,
      "outputs": [
        {
          "output_type": "execute_result",
          "data": {
            "text/plain": [
              "<matplotlib.axes._subplots.AxesSubplot at 0x7f62232b36d0>"
            ]
          },
          "metadata": {
            "tags": []
          },
          "execution_count": 322
        },
        {
          "output_type": "display_data",
          "data": {
            "image/png": "[encoded data removed]",
            "text/plain": [
              "<Figure size 432x288 with 1 Axes>"
            ]
          },
          "metadata": {
            "tags": []
          }
        }
      ]
    },
    {
      "cell_type": "markdown",
      "metadata": {
        "id": "JzWqpyI_zr4L"
      },
      "source": [
        "# **Looking at the linear relationship between interest rates and default rates for a particular grade**"
      ]
    },
    {
      "cell_type": "markdown",
      "metadata": {
        "id": "oDg3Xrry0BSM"
      },
      "source": [
        "As said before there seems to be a linear connection between the interest rate and the default rate. We will use Linear Regression to calculate the linear function that maps from the default rate to the interest rate."
      ]
    },
    {
      "cell_type": "code",
      "metadata": {
        "colab": {
          "base_uri": "https://localhost:8080/"
        },
        "id": "wVLYHdg6BAao",
        "outputId": "16759407-870a-4fca-e1ac-e2f54423ad33"
      },
      "source": [
        "from sklearn.linear_model import LinearRegression\n",
        "lr = LinearRegression()\n",
        "lr.fit(df.groupby('sub_grade')['loan_status_bin'].mean().values.reshape(-1,1), y=df.groupby('sub_grade')['int_rate'].mean())"
      ],
      "execution_count": null,
      "outputs": [
        {
          "output_type": "execute_result",
          "data": {
            "text/plain": [
              "LinearRegression(copy_X=True, fit_intercept=True, n_jobs=None, normalize=False)"
            ]
          },
          "metadata": {
            "tags": []
          },
          "execution_count": 323
        }
      ]
    },
    {
      "cell_type": "code",
      "metadata": {
        "colab": {
          "base_uri": "https://localhost:8080/",
          "height": 302
        },
        "id": "ssxd31GbBDdL",
        "outputId": "11d40ad8-d302-469b-a22c-793018d43fc5"
      },
      "source": [
        "import matplotlib.pyplot as plt\n",
        "plt.scatter(df.groupby('sub_grade')['loan_status_bin'].mean(), df.groupby('sub_grade')['int_rate'].mean())\n",
        "plt.plot(df.groupby('sub_grade')['loan_status_bin'].mean(), lr.predict(df.groupby('sub_grade')['loan_status_bin'].mean().values.reshape(-1,1)))\n",
        "plt.xlabel('default rate')\n",
        "plt.ylabel('interest rate')"
      ],
      "execution_count": null,
      "outputs": [
        {
          "output_type": "execute_result",
          "data": {
            "text/plain": [
              "Text(0, 0.5, 'interest rate')"
            ]
          },
          "metadata": {
            "tags": []
          },
          "execution_count": 324
        },
        {
          "output_type": "display_data",
          "data": {
            "image/png": "[encoded data removed]",
            "text/plain": [
              "<Figure size 432x288 with 1 Axes>"
            ]
          },
          "metadata": {
            "tags": []
          }
        }
      ]
    },
    {
      "cell_type": "code",
      "metadata": {
        "colab": {
          "base_uri": "https://localhost:8080/"
        },
        "id": "bp-ZAO-rBGpl",
        "outputId": "c834c5b2-f08d-446c-8f3a-95918a92918e"
      },
      "source": [
        "print('interest rate = ', lr.intercept_, '+', lr.coef_[0], '* default rate')"
      ],
      "execution_count": null,
      "outputs": [
        {
          "output_type": "stream",
          "text": [
            "interest rate =  4.858942215520964 + 35.265938714083156 * default rate\n"
          ],
          "name": "stdout"
        }
      ]
    },
    {
      "cell_type": "markdown",
      "metadata": {
        "id": "p5tNpERB0FjL"
      },
      "source": [
        "From the above linear relation, we can see that when even in the same grade, if given a higher interest rate people are more likely to default when compared to a lower interest rate"
      ]
    },
    {
      "cell_type": "markdown",
      "metadata": {
        "id": "8nUVLwBZ0YC_"
      },
      "source": [
        "# **Traning the Logisitic Regression for PD model**\n",
        "\n"
      ]
    },
    {
      "cell_type": "markdown",
      "metadata": {
        "id": "MvlO_szo0inB"
      },
      "source": [
        "Reduce the dataset to the following columns that are known to investors **before** the loan is funded."
      ]
    },
    {
      "cell_type": "code",
      "metadata": {
        "id": "07A5f23_BLVb"
      },
      "source": [
        "columns = ['loan_amnt', 'term', 'int_rate',\n",
        "       'installment', 'grade', 'emp_length',\n",
        "       'home_ownership', 'annual_inc_log', 'verification_status',\n",
        "       'loan_status_bin', 'purpose',\n",
        "       'addr_state', 'dti', 'delinq_2yrs',\n",
        "       'fico_range_low', 'inq_last_6mths', 'open_acc',\n",
        "       'pub_rec', 'revol_bal', 'revol_util', 'total_acc']\n",
        "df = df[columns]"
      ],
      "execution_count": null,
      "outputs": []
    },
    {
      "cell_type": "markdown",
      "metadata": {
        "id": "PPYVanLG0qRB"
      },
      "source": [
        "Drop all rows that contain null-values."
      ]
    },
    {
      "cell_type": "code",
      "metadata": {
        "id": "1bDJFk0-BPSG"
      },
      "source": [
        "df.dropna(inplace=True)"
      ],
      "execution_count": null,
      "outputs": []
    },
    {
      "cell_type": "markdown",
      "metadata": {
        "id": "VxkV3ZaU0rtC"
      },
      "source": [
        "Transform the grade into numerical values."
      ]
    },
    {
      "cell_type": "code",
      "metadata": {
        "id": "EiC18UtcBRwF"
      },
      "source": [
        "df['grade']=df['grade'].map({'A': 1, 'B': 2, 'C': 3, 'D': 4, 'E': 5, 'F': 6, 'G': 7})"
      ],
      "execution_count": null,
      "outputs": []
    },
    {
      "cell_type": "markdown",
      "metadata": {
        "id": "wRTr5_bz0wqP"
      },
      "source": [
        "Get the dummy-variables for categorical features."
      ]
    },
    {
      "cell_type": "code",
      "metadata": {
        "id": "SkyfxN_UBUdb"
      },
      "source": [
        "df_dummies = pd.get_dummies(df)"
      ],
      "execution_count": null,
      "outputs": []
    },
    {
      "cell_type": "markdown",
      "metadata": {
        "id": "qwUBT3WP00Lx"
      },
      "source": [
        "We are going to drop all dummy-variables which contain not at least 1% ones. In this case we can simply look at the mean of the features because all non-dummy variables have means greater than 0.01."
      ]
    },
    {
      "cell_type": "code",
      "metadata": {
        "id": "kxxDnN8jBXjh"
      },
      "source": [
        "drop_columns = df_dummies.columns[(df_dummies.mean()<0.01)]\n",
        "df_dummies.drop(drop_columns, axis=1, inplace=True)"
      ],
      "execution_count": null,
      "outputs": []
    },
    {
      "cell_type": "markdown",
      "metadata": {
        "id": "3-6De3bt0325"
      },
      "source": [
        "Add the two different verification status variables that indicate verified to one variable."
      ]
    },
    {
      "cell_type": "code",
      "metadata": {
        "id": "x7Oib_LRBaZV"
      },
      "source": [
        "df_dummies['verification_status_Verified_sum'] = df_dummies['verification_status_Source Verified']+df_dummies['verification_status_Verified']\n",
        "df_dummies.drop(['verification_status_Source Verified', 'verification_status_Verified'], axis=1, inplace=True)"
      ],
      "execution_count": null,
      "outputs": []
    },
    {
      "cell_type": "markdown",
      "metadata": {
        "id": "1O0Kb2UM07Te"
      },
      "source": [
        "The transformed dataset looks like this"
      ]
    },
    {
      "cell_type": "code",
      "metadata": {
        "colab": {
          "base_uri": "https://localhost:8080/",
          "height": 258
        },
        "id": "9rSgHAkNBdK4",
        "outputId": "30eee690-1e15-4792-b39f-a647dfc790c2"
      },
      "source": [
        "df_dummies.head()"
      ],
      "execution_count": null,
      "outputs": [
        {
          "output_type": "execute_result",
          "data": {
            "text/html": [
              "<div>\n",
              "<style scoped>\n",
              "    .dataframe tbody tr th:only-of-type {\n",
              "        vertical-align: middle;\n",
              "    }\n",
              "\n",
              "    .dataframe tbody tr th {\n",
              "        vertical-align: top;\n",
              "    }\n",
              "\n",
              "    .dataframe thead th {\n",
              "        text-align: right;\n",
              "    }\n",
              "</style>\n",
              "<table border=\"1\" class=\"dataframe\">\n",
              "  <thead>\n",
              "    <tr style=\"text-align: right;\">\n",
              "      <th></th>\n",
              "      <th>loan_amnt</th>\n",
              "      <th>int_rate</th>\n",
              "      <th>installment</th>\n",
              "      <th>grade</th>\n",
              "      <th>annual_inc_log</th>\n",
              "      <th>loan_status_bin</th>\n",
              "      <th>dti</th>\n",
              "      <th>delinq_2yrs</th>\n",
              "      <th>fico_range_low</th>\n",
              "      <th>inq_last_6mths</th>\n",
              "      <th>open_acc</th>\n",
              "      <th>pub_rec</th>\n",
              "      <th>revol_bal</th>\n",
              "      <th>revol_util</th>\n",
              "      <th>total_acc</th>\n",
              "      <th>term_ 36 months</th>\n",
              "      <th>term_ 60 months</th>\n",
              "      <th>emp_length_1 year</th>\n",
              "      <th>emp_length_10+ years</th>\n",
              "      <th>emp_length_2 years</th>\n",
              "      <th>emp_length_3 years</th>\n",
              "      <th>emp_length_4 years</th>\n",
              "      <th>emp_length_5 years</th>\n",
              "      <th>emp_length_6 years</th>\n",
              "      <th>emp_length_7 years</th>\n",
              "      <th>emp_length_8 years</th>\n",
              "      <th>emp_length_9 years</th>\n",
              "      <th>emp_length_&lt; 1 year</th>\n",
              "      <th>home_ownership_MORTGAGE</th>\n",
              "      <th>home_ownership_OWN</th>\n",
              "      <th>home_ownership_RENT</th>\n",
              "      <th>verification_status_Not Verified</th>\n",
              "      <th>purpose_credit_card</th>\n",
              "      <th>purpose_debt_consolidation</th>\n",
              "      <th>purpose_home_improvement</th>\n",
              "      <th>purpose_major_purchase</th>\n",
              "      <th>purpose_medical</th>\n",
              "      <th>purpose_other</th>\n",
              "      <th>addr_state_AL</th>\n",
              "      <th>addr_state_AZ</th>\n",
              "      <th>addr_state_CA</th>\n",
              "      <th>addr_state_CO</th>\n",
              "      <th>addr_state_CT</th>\n",
              "      <th>addr_state_FL</th>\n",
              "      <th>addr_state_GA</th>\n",
              "      <th>addr_state_IL</th>\n",
              "      <th>addr_state_IN</th>\n",
              "      <th>addr_state_LA</th>\n",
              "      <th>addr_state_MA</th>\n",
              "      <th>addr_state_MD</th>\n",
              "      <th>addr_state_MI</th>\n",
              "      <th>addr_state_MN</th>\n",
              "      <th>addr_state_MO</th>\n",
              "      <th>addr_state_NC</th>\n",
              "      <th>addr_state_NJ</th>\n",
              "      <th>addr_state_NV</th>\n",
              "      <th>addr_state_NY</th>\n",
              "      <th>addr_state_OH</th>\n",
              "      <th>addr_state_OR</th>\n",
              "      <th>addr_state_PA</th>\n",
              "      <th>addr_state_SC</th>\n",
              "      <th>addr_state_TN</th>\n",
              "      <th>addr_state_TX</th>\n",
              "      <th>addr_state_VA</th>\n",
              "      <th>addr_state_WA</th>\n",
              "      <th>addr_state_WI</th>\n",
              "      <th>verification_status_Verified_sum</th>\n",
              "    </tr>\n",
              "  </thead>\n",
              "  <tbody>\n",
              "    <tr>\n",
              "      <th>0</th>\n",
              "      <td>3600.0</td>\n",
              "      <td>13.99</td>\n",
              "      <td>123.03</td>\n",
              "      <td>3</td>\n",
              "      <td>10.915088</td>\n",
              "      <td>0</td>\n",
              "      <td>5.91</td>\n",
              "      <td>0.0</td>\n",
              "      <td>675.0</td>\n",
              "      <td>1.0</td>\n",
              "      <td>7.0</td>\n",
              "      <td>0.0</td>\n",
              "      <td>2765.0</td>\n",
              "      <td>29.7</td>\n",
              "      <td>13.0</td>\n",
              "      <td>1</td>\n",
              "      <td>0</td>\n",
              "      <td>0</td>\n",
              "      <td>1</td>\n",
              "      <td>0</td>\n",
              "      <td>0</td>\n",
              "      <td>0</td>\n",
              "      <td>0</td>\n",
              "      <td>0</td>\n",
              "      <td>0</td>\n",
              "      <td>0</td>\n",
              "      <td>0</td>\n",
              "      <td>0</td>\n",
              "      <td>1</td>\n",
              "      <td>0</td>\n",
              "      <td>0</td>\n",
              "      <td>1</td>\n",
              "      <td>0</td>\n",
              "      <td>1</td>\n",
              "      <td>0</td>\n",
              "      <td>0</td>\n",
              "      <td>0</td>\n",
              "      <td>0</td>\n",
              "      <td>0</td>\n",
              "      <td>0</td>\n",
              "      <td>0</td>\n",
              "      <td>0</td>\n",
              "      <td>0</td>\n",
              "      <td>0</td>\n",
              "      <td>0</td>\n",
              "      <td>0</td>\n",
              "      <td>0</td>\n",
              "      <td>0</td>\n",
              "      <td>0</td>\n",
              "      <td>0</td>\n",
              "      <td>0</td>\n",
              "      <td>0</td>\n",
              "      <td>0</td>\n",
              "      <td>0</td>\n",
              "      <td>0</td>\n",
              "      <td>0</td>\n",
              "      <td>0</td>\n",
              "      <td>0</td>\n",
              "      <td>0</td>\n",
              "      <td>1</td>\n",
              "      <td>0</td>\n",
              "      <td>0</td>\n",
              "      <td>0</td>\n",
              "      <td>0</td>\n",
              "      <td>0</td>\n",
              "      <td>0</td>\n",
              "      <td>0</td>\n",
              "    </tr>\n",
              "    <tr>\n",
              "      <th>1</th>\n",
              "      <td>24700.0</td>\n",
              "      <td>11.99</td>\n",
              "      <td>820.28</td>\n",
              "      <td>3</td>\n",
              "      <td>11.082143</td>\n",
              "      <td>0</td>\n",
              "      <td>16.06</td>\n",
              "      <td>1.0</td>\n",
              "      <td>715.0</td>\n",
              "      <td>4.0</td>\n",
              "      <td>22.0</td>\n",
              "      <td>0.0</td>\n",
              "      <td>21470.0</td>\n",
              "      <td>19.2</td>\n",
              "      <td>38.0</td>\n",
              "      <td>1</td>\n",
              "      <td>0</td>\n",
              "      <td>0</td>\n",
              "      <td>1</td>\n",
              "      <td>0</td>\n",
              "      <td>0</td>\n",
              "      <td>0</td>\n",
              "      <td>0</td>\n",
              "      <td>0</td>\n",
              "      <td>0</td>\n",
              "      <td>0</td>\n",
              "      <td>0</td>\n",
              "      <td>0</td>\n",
              "      <td>1</td>\n",
              "      <td>0</td>\n",
              "      <td>0</td>\n",
              "      <td>1</td>\n",
              "      <td>0</td>\n",
              "      <td>0</td>\n",
              "      <td>0</td>\n",
              "      <td>0</td>\n",
              "      <td>0</td>\n",
              "      <td>0</td>\n",
              "      <td>0</td>\n",
              "      <td>0</td>\n",
              "      <td>0</td>\n",
              "      <td>0</td>\n",
              "      <td>0</td>\n",
              "      <td>0</td>\n",
              "      <td>0</td>\n",
              "      <td>0</td>\n",
              "      <td>0</td>\n",
              "      <td>0</td>\n",
              "      <td>0</td>\n",
              "      <td>0</td>\n",
              "      <td>0</td>\n",
              "      <td>0</td>\n",
              "      <td>0</td>\n",
              "      <td>0</td>\n",
              "      <td>0</td>\n",
              "      <td>0</td>\n",
              "      <td>0</td>\n",
              "      <td>0</td>\n",
              "      <td>0</td>\n",
              "      <td>0</td>\n",
              "      <td>0</td>\n",
              "      <td>0</td>\n",
              "      <td>0</td>\n",
              "      <td>0</td>\n",
              "      <td>0</td>\n",
              "      <td>0</td>\n",
              "      <td>0</td>\n",
              "    </tr>\n",
              "    <tr>\n",
              "      <th>2</th>\n",
              "      <td>20000.0</td>\n",
              "      <td>10.78</td>\n",
              "      <td>432.66</td>\n",
              "      <td>2</td>\n",
              "      <td>11.050890</td>\n",
              "      <td>0</td>\n",
              "      <td>10.78</td>\n",
              "      <td>0.0</td>\n",
              "      <td>695.0</td>\n",
              "      <td>0.0</td>\n",
              "      <td>6.0</td>\n",
              "      <td>0.0</td>\n",
              "      <td>7869.0</td>\n",
              "      <td>56.2</td>\n",
              "      <td>18.0</td>\n",
              "      <td>0</td>\n",
              "      <td>1</td>\n",
              "      <td>0</td>\n",
              "      <td>1</td>\n",
              "      <td>0</td>\n",
              "      <td>0</td>\n",
              "      <td>0</td>\n",
              "      <td>0</td>\n",
              "      <td>0</td>\n",
              "      <td>0</td>\n",
              "      <td>0</td>\n",
              "      <td>0</td>\n",
              "      <td>0</td>\n",
              "      <td>1</td>\n",
              "      <td>0</td>\n",
              "      <td>0</td>\n",
              "      <td>1</td>\n",
              "      <td>0</td>\n",
              "      <td>0</td>\n",
              "      <td>1</td>\n",
              "      <td>0</td>\n",
              "      <td>0</td>\n",
              "      <td>0</td>\n",
              "      <td>0</td>\n",
              "      <td>0</td>\n",
              "      <td>0</td>\n",
              "      <td>0</td>\n",
              "      <td>0</td>\n",
              "      <td>0</td>\n",
              "      <td>0</td>\n",
              "      <td>1</td>\n",
              "      <td>0</td>\n",
              "      <td>0</td>\n",
              "      <td>0</td>\n",
              "      <td>0</td>\n",
              "      <td>0</td>\n",
              "      <td>0</td>\n",
              "      <td>0</td>\n",
              "      <td>0</td>\n",
              "      <td>0</td>\n",
              "      <td>0</td>\n",
              "      <td>0</td>\n",
              "      <td>0</td>\n",
              "      <td>0</td>\n",
              "      <td>0</td>\n",
              "      <td>0</td>\n",
              "      <td>0</td>\n",
              "      <td>0</td>\n",
              "      <td>0</td>\n",
              "      <td>0</td>\n",
              "      <td>0</td>\n",
              "      <td>0</td>\n",
              "    </tr>\n",
              "    <tr>\n",
              "      <th>4</th>\n",
              "      <td>10400.0</td>\n",
              "      <td>22.45</td>\n",
              "      <td>289.91</td>\n",
              "      <td>6</td>\n",
              "      <td>11.556301</td>\n",
              "      <td>0</td>\n",
              "      <td>25.37</td>\n",
              "      <td>1.0</td>\n",
              "      <td>695.0</td>\n",
              "      <td>3.0</td>\n",
              "      <td>12.0</td>\n",
              "      <td>0.0</td>\n",
              "      <td>21929.0</td>\n",
              "      <td>64.5</td>\n",
              "      <td>35.0</td>\n",
              "      <td>0</td>\n",
              "      <td>1</td>\n",
              "      <td>0</td>\n",
              "      <td>0</td>\n",
              "      <td>0</td>\n",
              "      <td>1</td>\n",
              "      <td>0</td>\n",
              "      <td>0</td>\n",
              "      <td>0</td>\n",
              "      <td>0</td>\n",
              "      <td>0</td>\n",
              "      <td>0</td>\n",
              "      <td>0</td>\n",
              "      <td>1</td>\n",
              "      <td>0</td>\n",
              "      <td>0</td>\n",
              "      <td>0</td>\n",
              "      <td>0</td>\n",
              "      <td>0</td>\n",
              "      <td>0</td>\n",
              "      <td>1</td>\n",
              "      <td>0</td>\n",
              "      <td>0</td>\n",
              "      <td>0</td>\n",
              "      <td>0</td>\n",
              "      <td>0</td>\n",
              "      <td>0</td>\n",
              "      <td>0</td>\n",
              "      <td>0</td>\n",
              "      <td>0</td>\n",
              "      <td>0</td>\n",
              "      <td>0</td>\n",
              "      <td>0</td>\n",
              "      <td>0</td>\n",
              "      <td>0</td>\n",
              "      <td>0</td>\n",
              "      <td>0</td>\n",
              "      <td>0</td>\n",
              "      <td>0</td>\n",
              "      <td>0</td>\n",
              "      <td>0</td>\n",
              "      <td>0</td>\n",
              "      <td>0</td>\n",
              "      <td>0</td>\n",
              "      <td>1</td>\n",
              "      <td>0</td>\n",
              "      <td>0</td>\n",
              "      <td>0</td>\n",
              "      <td>0</td>\n",
              "      <td>0</td>\n",
              "      <td>0</td>\n",
              "      <td>1</td>\n",
              "    </tr>\n",
              "    <tr>\n",
              "      <th>5</th>\n",
              "      <td>11950.0</td>\n",
              "      <td>13.44</td>\n",
              "      <td>405.18</td>\n",
              "      <td>3</td>\n",
              "      <td>10.434116</td>\n",
              "      <td>0</td>\n",
              "      <td>10.20</td>\n",
              "      <td>0.0</td>\n",
              "      <td>690.0</td>\n",
              "      <td>0.0</td>\n",
              "      <td>5.0</td>\n",
              "      <td>0.0</td>\n",
              "      <td>8822.0</td>\n",
              "      <td>68.4</td>\n",
              "      <td>6.0</td>\n",
              "      <td>1</td>\n",
              "      <td>0</td>\n",
              "      <td>0</td>\n",
              "      <td>0</td>\n",
              "      <td>0</td>\n",
              "      <td>0</td>\n",
              "      <td>1</td>\n",
              "      <td>0</td>\n",
              "      <td>0</td>\n",
              "      <td>0</td>\n",
              "      <td>0</td>\n",
              "      <td>0</td>\n",
              "      <td>0</td>\n",
              "      <td>0</td>\n",
              "      <td>0</td>\n",
              "      <td>1</td>\n",
              "      <td>0</td>\n",
              "      <td>0</td>\n",
              "      <td>1</td>\n",
              "      <td>0</td>\n",
              "      <td>0</td>\n",
              "      <td>0</td>\n",
              "      <td>0</td>\n",
              "      <td>0</td>\n",
              "      <td>0</td>\n",
              "      <td>0</td>\n",
              "      <td>0</td>\n",
              "      <td>0</td>\n",
              "      <td>0</td>\n",
              "      <td>1</td>\n",
              "      <td>0</td>\n",
              "      <td>0</td>\n",
              "      <td>0</td>\n",
              "      <td>0</td>\n",
              "      <td>0</td>\n",
              "      <td>0</td>\n",
              "      <td>0</td>\n",
              "      <td>0</td>\n",
              "      <td>0</td>\n",
              "      <td>0</td>\n",
              "      <td>0</td>\n",
              "      <td>0</td>\n",
              "      <td>0</td>\n",
              "      <td>0</td>\n",
              "      <td>0</td>\n",
              "      <td>0</td>\n",
              "      <td>0</td>\n",
              "      <td>0</td>\n",
              "      <td>0</td>\n",
              "      <td>0</td>\n",
              "      <td>0</td>\n",
              "      <td>1</td>\n",
              "    </tr>\n",
              "  </tbody>\n",
              "</table>\n",
              "</div>"
            ],
            "text/plain": [
              "   loan_amnt  int_rate  ...  addr_state_WI  verification_status_Verified_sum\n",
              "0     3600.0     13.99  ...              0                                 0\n",
              "1    24700.0     11.99  ...              0                                 0\n",
              "2    20000.0     10.78  ...              0                                 0\n",
              "4    10400.0     22.45  ...              0                                 1\n",
              "5    11950.0     13.44  ...              0                                 1\n",
              "\n",
              "[5 rows x 67 columns]"
            ]
          },
          "metadata": {
            "tags": []
          },
          "execution_count": 332
        }
      ]
    },
    {
      "cell_type": "markdown",
      "metadata": {
        "id": "40dHCy9K1CvU"
      },
      "source": [
        "Seperate features from targets."
      ]
    },
    {
      "cell_type": "code",
      "metadata": {
        "id": "oU9LwcJyBfOA"
      },
      "source": [
        "X = df_dummies.drop('loan_status_bin', axis=1)\n",
        "y = df_dummies['loan_status_bin']"
      ],
      "execution_count": null,
      "outputs": []
    },
    {
      "cell_type": "markdown",
      "metadata": {
        "id": "2gTh2c7t1F_o"
      },
      "source": [
        "Split the data into training and testing data."
      ]
    },
    {
      "cell_type": "code",
      "metadata": {
        "id": "BEGMXU0UBkZY"
      },
      "source": [
        "from sklearn.model_selection import train_test_split\n",
        "X_train, X_test, y_train, y_test = train_test_split(X, y, test_size=0.2, random_state=0)"
      ],
      "execution_count": null,
      "outputs": []
    },
    {
      "cell_type": "markdown",
      "metadata": {
        "id": "kxEH-oKj1Lzy"
      },
      "source": [
        "Set up the pipeline. We will use  L1 -penalty for built-in feature selectiob"
      ]
    },
    {
      "cell_type": "code",
      "metadata": {
        "id": "_N8HfiXEBnKl"
      },
      "source": [
        "from sklearn.preprocessing import MinMaxScaler\n",
        "from sklearn.linear_model import LogisticRegression\n",
        "from sklearn.pipeline import Pipeline\n",
        "\n",
        "sc = MinMaxScaler()\n",
        "clf = LogisticRegression(penalty='l2', C=0.01)\n",
        "\n",
        "pipe_lr = Pipeline([('scaler', sc), ('clf', clf)])"
      ],
      "execution_count": null,
      "outputs": []
    },
    {
      "cell_type": "markdown",
      "metadata": {
        "id": "xDNQakWy1P3Z"
      },
      "source": [
        "Train the logisitc regression model."
      ]
    },
    {
      "cell_type": "code",
      "metadata": {
        "colab": {
          "base_uri": "https://localhost:8080/"
        },
        "id": "llCm8GHyB3hR",
        "outputId": "e9f7e7e2-674f-4228-cb28-ea94b36f8c6e"
      },
      "source": [
        "pipe_lr.fit(X_train, y_train)"
      ],
      "execution_count": null,
      "outputs": [
        {
          "output_type": "execute_result",
          "data": {
            "text/plain": [
              "Pipeline(memory=None,\n",
              "         steps=[('scaler', MinMaxScaler(copy=True, feature_range=(0, 1))),\n",
              "                ('clf',\n",
              "                 LogisticRegression(C=0.01, class_weight=None, dual=False,\n",
              "                                    fit_intercept=True, intercept_scaling=1,\n",
              "                                    l1_ratio=None, max_iter=100,\n",
              "                                    multi_class='auto', n_jobs=None,\n",
              "                                    penalty='l2', random_state=None,\n",
              "                                    solver='lbfgs', tol=0.0001, verbose=0,\n",
              "                                    warm_start=False))],\n",
              "         verbose=False)"
            ]
          },
          "metadata": {
            "tags": []
          },
          "execution_count": 336
        }
      ]
    },
    {
      "cell_type": "markdown",
      "metadata": {
        "id": "E4AZZMBv1e5n"
      },
      "source": [
        "# **Evaluating the logistic regression model**"
      ]
    },
    {
      "cell_type": "markdown",
      "metadata": {
        "id": "CR-siPGk1vrU"
      },
      "source": [
        "**Here, to look at the accuracy of the model we are looking at ROC-AUC-score.** \n",
        "\n",
        "\n",
        "> \n",
        "ROC is a probability curve and AUC represents the degree or measure of separability. It tells how much the model is capable of distinguishing between classes. Higher the AUC, the better the model is at predicting 0s as 0s and 1s as 1s. A score  of 0.73 means that our is good at differentiating\n"
      ]
    },
    {
      "cell_type": "code",
      "metadata": {
        "colab": {
          "base_uri": "https://localhost:8080/",
          "height": 318
        },
        "id": "w3U_1dlTB6Es",
        "outputId": "1d913dfd-cac2-4d46-ecb2-eb2911ff0f8d"
      },
      "source": [
        "y_score = pipe_lr.predict_proba(X_test)[:,1]\n",
        "from sklearn.metrics import roc_auc_score, roc_curve,precision_score, recall_score, precision_recall_curve\n",
        "fpr, tpr, tresholds = roc_curve(y_test, y_score)\n",
        "plt.plot(fpr, tpr)\n",
        "plt.title('ROC')\n",
        "plt.xlabel('FPR')\n",
        "plt.ylabel('TPR')\n",
        "\n",
        "print('ROC-AUC-score: ', roc_auc_score(y_test, y_score))"
      ],
      "execution_count": null,
      "outputs": [
        {
          "output_type": "stream",
          "text": [
            "ROC-AUC-score:  0.7383960611231137\n"
          ],
          "name": "stdout"
        },
        {
          "output_type": "display_data",
          "data": {
            "image/png": "[encoded data removed]",
            "text/plain": [
              "<Figure size 432x288 with 1 Axes>"
            ]
          },
          "metadata": {
            "tags": []
          }
        }
      ]
    },
    {
      "cell_type": "markdown",
      "metadata": {
        "id": "axq1iW8q34wH"
      },
      "source": [
        "**Let's see which features are most important**"
      ]
    },
    {
      "cell_type": "code",
      "metadata": {
        "colab": {
          "base_uri": "https://localhost:8080/"
        },
        "id": "-e43iU1lCKHy",
        "outputId": "56cf4831-2d22-48f7-f4c4-a1ec38137ef4"
      },
      "source": [
        "for i in np.argsort(-np.abs(pipe_lr.named_steps['clf'].coef_[0])):\n",
        "    print(X.columns[i], ': ', round(pipe_lr.named_steps['clf'].coef_[0,i], 4))"
      ],
      "execution_count": null,
      "outputs": [
        {
          "output_type": "stream",
          "text": [
            "int_rate :  1.0994\n",
            "grade :  1.0718\n",
            "fico_range_low :  -0.7828\n",
            "inq_last_6mths :  0.419\n",
            "term_ 60 months :  0.411\n",
            "term_ 36 months :  -0.411\n",
            "open_acc :  0.4019\n",
            "annual_inc_log :  -0.3308\n",
            "dti :  0.2577\n",
            "addr_state_OR :  -0.2127\n",
            "home_ownership_MORTGAGE :  -0.1921\n",
            "addr_state_LA :  0.1807\n",
            "addr_state_WA :  -0.1744\n",
            "installment :  0.1742\n",
            "addr_state_NJ :  0.1723\n",
            "addr_state_GA :  -0.1617\n",
            "home_ownership_RENT :  0.1567\n",
            "addr_state_CO :  -0.1417\n",
            "addr_state_TX :  0.1384\n",
            "addr_state_SC :  -0.1265\n",
            "addr_state_FL :  0.1057\n",
            "addr_state_CT :  -0.1035\n",
            "purpose_credit_card :  -0.094\n",
            "revol_bal :  -0.0892\n",
            "addr_state_IL :  -0.0891\n",
            "verification_status_Verified_sum :  0.0883\n",
            "verification_status_Not Verified :  -0.0882\n",
            "addr_state_AL :  0.0872\n",
            "purpose_other :  -0.0869\n",
            "addr_state_NY :  0.0758\n",
            "addr_state_MI :  -0.0725\n",
            "delinq_2yrs :  0.0677\n",
            "total_acc :  0.0618\n",
            "addr_state_IN :  0.0564\n",
            "purpose_medical :  0.0543\n",
            "addr_state_AZ :  -0.0541\n",
            "emp_length_7 years :  -0.0522\n",
            "addr_state_NV :  0.0488\n",
            "emp_length_9 years :  0.048\n",
            "addr_state_OH :  0.0471\n",
            "addr_state_PA :  0.0469\n",
            "addr_state_TN :  0.0449\n",
            "emp_length_10+ years :  -0.0446\n",
            "addr_state_NC :  0.0434\n",
            "purpose_major_purchase :  0.0432\n",
            "home_ownership_OWN :  0.0368\n",
            "emp_length_8 years :  0.0355\n",
            "emp_length_6 years :  -0.0334\n",
            "emp_length_5 years :  0.0331\n",
            "emp_length_1 year :  0.0299\n",
            "addr_state_CA :  -0.0291\n",
            "emp_length_2 years :  -0.0288\n",
            "revol_util :  0.0287\n",
            "addr_state_VA :  -0.0263\n",
            "purpose_debt_consolidation :  0.0253\n",
            "addr_state_MN :  -0.0248\n",
            "addr_state_MO :  0.0248\n",
            "addr_state_MA :  -0.0204\n",
            "addr_state_MD :  0.0167\n",
            "emp_length_4 years :  0.0158\n",
            "pub_rec :  0.0133\n",
            "loan_amnt :  0.0118\n",
            "addr_state_WI :  -0.0083\n",
            "purpose_home_improvement :  -0.0069\n",
            "emp_length_3 years :  -0.0054\n",
            "emp_length_< 1 year :  0.0022\n"
          ],
          "name": "stdout"
        }
      ]
    },
    {
      "cell_type": "markdown",
      "metadata": {
        "id": "Vldanzup4A_f"
      },
      "source": [
        "  > One can control the risk of the investments by choosing different tresholds. The higher one chooses the probability where to seperate good from bad loans the higher the default rate will be. We now write a function that transforms default probabilities to predictions.\n",
        "  $y_{pred}= \\begin{cases} 1 & P(y_{pred}=1) \\geq \\theta \\\\ 0 & else \\end{cases} $"
      ]
    },
    {
      "cell_type": "markdown",
      "metadata": {
        "id": "I76J8gMT4adF"
      },
      "source": [
        "**By applying varying classification thresholds, we can trace out explicitly the trade-off between preicision and recall from the PR curve.**"
      ]
    },
    {
      "cell_type": "code",
      "metadata": {
        "id": "jsM73Mh3fdIj"
      },
      "source": [
        "def plot_precision_recall_curve(y_score, y_test, thresholds):\n",
        "    preds = [np.where(y_score > threshold, 1, 0) for threshold in thresholds]\n",
        "    precisions = [precision_score(y_test, pred) for pred in preds]\n",
        "    recalls = [recall_score(y_test, pred) for pred in preds]\n",
        "    precision_recall = pd.DataFrame({'Precision': precisions, 'Recall': recalls, \"Threshold\": thresholds})\n",
        "    \n",
        "\n",
        "    precision_recall.plot(x = 'Threshold')\n",
        "    plt.title('Precision, Recall vs. Threshold')\n",
        "    plt.show()"
      ],
      "execution_count": null,
      "outputs": []
    },
    {
      "cell_type": "code",
      "metadata": {
        "colab": {
          "base_uri": "https://localhost:8080/",
          "height": 301
        },
        "id": "jJlI5u7Hhq6B",
        "outputId": "55235be9-5dea-4a18-93c8-bc30227ce0a7"
      },
      "source": [
        "thresholds = np.arange(0.05, 0.85, 0.1)\n",
        "plot_precision_recall_curve(y_score, y_test, thresholds)"
      ],
      "execution_count": null,
      "outputs": [
        {
          "output_type": "display_data",
          "data": {
            "image/png": "[encoded data removed]",
            "text/plain": [
              "<Figure size 432x288 with 1 Axes>"
            ]
          },
          "metadata": {
            "tags": []
          }
        }
      ]
    },
    {
      "cell_type": "markdown",
      "metadata": {
        "id": "EB88niul4cxh"
      },
      "source": [
        "\n",
        "\n",
        "*   Positive: Charge Off\n",
        "*   Negative: Fully Paid\n",
        "*   Precision is defined as True Positive/(True Positive + False Positive).\n",
        "*   Recall is defined as True Positive/(True Positive + False Negative).\n",
        "\n",
        "At the default threshold 0.2, we have a precision 0.3 and recall 0.65, which means we have a significant number of false positives. In other words, many borrowers who paid off are predicted to have a charge off.\n",
        "\n",
        "In the business setting, the threshold is set differently by business objectives. For example, if LendingClub wants to minimize the loan loss due to charge offs, they may want to lower the threshold to get a good recall score. This would reduce the likelihood that the positive class(charge off) is missed. However, on the other side, the precision score would go down, resulting in more false positives. That means a growing number of borrowers who paid off are predicted to have a charge off. This would cause the borrowers to have a bad experience with the company. And more importantly, LendingClub would lose the interest income collected from those who are incorrectly classified. Vice versa."
      ]
    },
    {
      "cell_type": "markdown",
      "metadata": {
        "id": "JY7bv7zNjNQz"
      },
      "source": [
        "# **Loan Loss Prediction**"
      ]
    },
    {
      "cell_type": "markdown",
      "metadata": {
        "id": "KxK0ZKuk5Jvl"
      },
      "source": [
        "By utilizing the machine learning model, we are trying to predict the loan loss for those current borrowers.\n",
        "\n",
        "Assume threshold = 0.5."
      ]
    },
    {
      "cell_type": "code",
      "metadata": {
        "id": "sh5q4DUYjZYN"
      },
      "source": [
        "business_data_orig=df_orig[df_orig['loan_status'] == 'Current']\n",
        "business_data = df_orig[df_orig['loan_status'] == 'Current']\n",
        "business_data['emp_length_num'] = business_data['emp_length'].apply(emp_to_num)\n",
        "business_data['long_emp'] = business_data['emp_length'].apply(lambda x: 1*(x=='10+ years'))\n",
        "business_data['short_emp'] = business_data['emp_length'].apply(lambda x: 1*(x=='1 year' or x=='< 1 year'))\n",
        "business_data['annual_inc_log'] = business_data['annual_inc'].apply(np.log)\n",
        "columns = ['loan_amnt', 'term', 'int_rate',\n",
        "       'installment', 'grade', 'emp_length',\n",
        "       'home_ownership', 'annual_inc_log', 'verification_status','purpose',\n",
        "       'addr_state', 'dti', 'delinq_2yrs',\n",
        "       'fico_range_low', 'inq_last_6mths', 'open_acc',\n",
        "       'pub_rec', 'revol_bal', 'revol_util', 'total_acc','funded_amnt']\n",
        "business_data = business_data[columns]\n",
        "business_data.dropna(inplace=True)\n",
        "business_data['grade']=business_data['grade'].map({'A': 1, 'B': 2, 'C': 3, 'D': 4, 'E': 5, 'F': 6, 'G': 7})\n",
        "business_data_dummies = pd.get_dummies(business_data)\n",
        "drop_columns = business_data_dummies.columns[(business_data_dummies.mean()<0.01)]\n",
        "business_data_dummies.drop(drop_columns, axis=1, inplace=True)\n",
        "business_data_dummies['verification_status_Verified_sum'] = business_data_dummies['verification_status_Source Verified']+business_data_dummies['verification_status_Verified']\n",
        "business_data_dummies.drop(['verification_status_Source Verified', 'verification_status_Verified'], axis=1, inplace=True)\n",
        "business_data_dummies.drop(['funded_amnt'],axis=1, inplace=True)"
      ],
      "execution_count": null,
      "outputs": []
    },
    {
      "cell_type": "markdown",
      "metadata": {
        "id": "Kw1cGiPm5Q6h"
      },
      "source": [
        "First we run the model with business data, and get the probability of charge off for each borrower."
      ]
    },
    {
      "cell_type": "code",
      "metadata": {
        "id": "1feicEI_lsrM"
      },
      "source": [
        "y_score_business_data = pipe_lr.predict_proba(business_data_dummies)[:, 1]"
      ],
      "execution_count": null,
      "outputs": []
    },
    {
      "cell_type": "markdown",
      "metadata": {
        "id": "Zvm1Ymzg5VhX"
      },
      "source": [
        "> Secondly we are going to use ECL model to calculate the expected loan loss.\n",
        "\n",
        "> Expected Credit Loss = LGD x PD x EAD\n",
        "> The expected loss is calculated as a loan’s LGD multiplied by both its probability of default (PD) and the financial institution’s exposure at default (EAD).\n",
        "\n",
        "> LGD(%): the amount unrecovered by the lender after selling the underlying asset if a borrower defaults on a loan. Because there is no collateral requirement for all of loans in the data, LGD equals to 1.\n",
        "\n",
        "> PD: Probability of default, which is the feauture y_score_business_data.\n",
        "\n",
        "> EAD: Remaining outstanding principal, which is the feature 'funded_amnt'."
      ]
    },
    {
      "cell_type": "code",
      "metadata": {
        "colab": {
          "base_uri": "https://localhost:8080/"
        },
        "id": "fYId1N82n7Uo",
        "outputId": "2249385e-14b9-47bf-eccc-2e70744e8e15"
      },
      "source": [
        "PD = pd.DataFrame(y_score_business_data.reshape(-1, 1))\n",
        "EAD = pd.DataFrame(business_data['funded_amnt'])\n",
        "\n",
        "Expected_Loss = PD.values * EAD.values\n",
        "Expected_Loss"
      ],
      "execution_count": null,
      "outputs": [
        {
          "output_type": "execute_result",
          "data": {
            "text/plain": [
              "array([[5132.76388799],\n",
              "       [3268.08672071],\n",
              "       [3730.16666851],\n",
              "       ...,\n",
              "       [2465.82793914],\n",
              "       [3512.29649753],\n",
              "       [2705.52650699]])"
            ]
          },
          "metadata": {
            "tags": []
          },
          "execution_count": 343
        }
      ]
    },
    {
      "cell_type": "code",
      "metadata": {
        "id": "XMtE0QYnosza"
      },
      "source": [
        "business_data['expected_loss'] = Expected_Loss"
      ],
      "execution_count": null,
      "outputs": []
    },
    {
      "cell_type": "code",
      "metadata": {
        "colab": {
          "base_uri": "https://localhost:8080/"
        },
        "id": "O4kdUG6Dpc-1",
        "outputId": "b8d7b909-bcff-4549-ac48-1998aa7a4fe6"
      },
      "source": [
        "print('We have {} current borrowers totally.'.format(business_data.shape[0]))"
      ],
      "execution_count": null,
      "outputs": [
        {
          "output_type": "stream",
          "text": [
            "We have 8223 current borrowers totally.\n"
          ],
          "name": "stdout"
        }
      ]
    },
    {
      "cell_type": "markdown",
      "metadata": {
        "id": "1ROJhaX05epF"
      },
      "source": [
        "**Distribution of Expected Loss**"
      ]
    },
    {
      "cell_type": "code",
      "metadata": {
        "colab": {
          "base_uri": "https://localhost:8080/",
          "height": 389
        },
        "id": "SU40Yudbpuup",
        "outputId": "a5a51aee-44f6-4058-f209-6be8efc4d205"
      },
      "source": [
        "import seaborn as sns\n",
        "sns.set(style = 'ticks')\n",
        "sns.distplot(business_data['expected_loss'], kde = False)\n",
        "plt.title('Distribution of Expected Loss')\n",
        "plt.ylabel(\"Count\")\n",
        "plt.show()"
      ],
      "execution_count": null,
      "outputs": [
        {
          "output_type": "stream",
          "text": [
            "/usr/local/lib/python3.7/dist-packages/seaborn/distributions.py:2557: FutureWarning:\n",
            "\n",
            "`distplot` is a deprecated function and will be removed in a future version. Please adapt your code to use either `displot` (a figure-level function with similar flexibility) or `histplot` (an axes-level function for histograms).\n",
            "\n"
          ],
          "name": "stderr"
        },
        {
          "output_type": "display_data",
          "data": {
            "image/png": "[encoded data removed]",
            "text/plain": [
              "<Figure size 432x288 with 1 Axes>"
            ]
          },
          "metadata": {
            "tags": []
          }
        }
      ]
    },
    {
      "cell_type": "code",
      "metadata": {
        "colab": {
          "base_uri": "https://localhost:8080/"
        },
        "id": "uP2SmV3Tp71h",
        "outputId": "8f2c33e4-3f94-4b89-c285-5ffa992f4e39"
      },
      "source": [
        "business_data['expected_loss'].describe()"
      ],
      "execution_count": null,
      "outputs": [
        {
          "output_type": "execute_result",
          "data": {
            "text/plain": [
              "count     8223.000000\n",
              "mean      3946.958707\n",
              "std       2276.235418\n",
              "min        249.357137\n",
              "25%       2353.784829\n",
              "50%       3329.980587\n",
              "75%       4886.480308\n",
              "max      19584.462838\n",
              "Name: expected_loss, dtype: float64"
            ]
          },
          "metadata": {
            "tags": []
          },
          "execution_count": 347
        }
      ]
    },
    {
      "cell_type": "markdown",
      "metadata": {
        "id": "up9WWMpD5ruv"
      },
      "source": [
        "The mean expected loss is \\$3950. Over 30% of current borrowers owe less than $2500, while 75% of the population owe less than \\$5000. But we could also see some substantial loss, says \\$19000 or beyond."
      ]
    },
    {
      "cell_type": "markdown",
      "metadata": {
        "id": "a32s1HeK6FB7"
      },
      "source": [
        "**Grade vs. loan loss**"
      ]
    },
    {
      "cell_type": "code",
      "metadata": {
        "colab": {
          "base_uri": "https://localhost:8080/",
          "height": 389
        },
        "id": "qECbuD6iqGvz",
        "outputId": "5dc9123b-1d5c-4d5c-e1ea-fc63c1633dcc"
      },
      "source": [
        "loss_by_grade = business_data[['grade', 'expected_loss']].groupby('grade').mean() \\\n",
        "                                                  .sort_values('expected_loss', ascending = False).head(10)\n",
        "\n",
        "sns.barplot(loss_by_grade.index, loss_by_grade['expected_loss'])\n",
        "plt.title('Grade vs. Expected Loss')\n",
        "plt.ylabel(\"Expected Mean Loss\")\n",
        "plt.show()"
      ],
      "execution_count": null,
      "outputs": [
        {
          "output_type": "stream",
          "text": [
            "/usr/local/lib/python3.7/dist-packages/seaborn/_decorators.py:43: FutureWarning:\n",
            "\n",
            "Pass the following variables as keyword args: x, y. From version 0.12, the only valid positional argument will be `data`, and passing other arguments without an explicit keyword will result in an error or misinterpretation.\n",
            "\n"
          ],
          "name": "stderr"
        },
        {
          "output_type": "display_data",
          "data": {
            "image/png": "[encoded data removed]",
            "text/plain": [
              "<Figure size 432x288 with 1 Axes>"
            ]
          },
          "metadata": {
            "tags": []
          }
        }
      ]
    },
    {
      "cell_type": "markdown",
      "metadata": {
        "id": "cUwGWVWX59Ml"
      },
      "source": [
        "The higher the grade, the less the mean loss. We would suggest enhancing scrutiny for borrowers with low grades since they are more likely to have charge offs with the greater amount."
      ]
    },
    {
      "cell_type": "markdown",
      "metadata": {
        "id": "bAV_mNQh6KPt"
      },
      "source": [
        "**Term vs. loan loss**"
      ]
    },
    {
      "cell_type": "code",
      "metadata": {
        "colab": {
          "base_uri": "https://localhost:8080/",
          "height": 301
        },
        "id": "6nSHpnk2qQN5",
        "outputId": "14f65bbe-161f-4f12-9dc6-ab29af794493"
      },
      "source": [
        "plt.subplot(1,2,1)\n",
        "business_data[business_data['term']==' 36 months']['expected_loss'].plot.hist(bins=20,title='term = 36 months')\n",
        "plt.subplot(1,2,2)\n",
        "business_data[business_data['term']== ' 60 months']['expected_loss'].plot.hist(bins=20,title='term = 60 months')"
      ],
      "execution_count": null,
      "outputs": [
        {
          "output_type": "execute_result",
          "data": {
            "text/plain": [
              "<matplotlib.axes._subplots.AxesSubplot at 0x7f6222f04910>"
            ]
          },
          "metadata": {
            "tags": []
          },
          "execution_count": 349
        },
        {
          "output_type": "display_data",
          "data": {
            "image/png": "[encoded data removed]",
            "text/plain": [
              "<Figure size 432x288 with 2 Axes>"
            ]
          },
          "metadata": {
            "tags": []
          }
        }
      ]
    },
    {
      "cell_type": "markdown",
      "metadata": {
        "id": "KiGp1xex8QJT"
      },
      "source": [
        "We could see that most of our current payments are in the 60 month term, and we could also see that most of them are less than  \\$10000 and in 36 months, since the number of loans are low the distribution is deverse"
      ]
    },
    {
      "cell_type": "markdown",
      "metadata": {
        "id": "nFyJerZk8P0d"
      },
      "source": [
        "**Loan Loss by State**"
      ]
    },
    {
      "cell_type": "code",
      "metadata": {
        "id": "d-rrw3woqyrJ"
      },
      "source": [
        " ls_state = business_data[['addr_state', 'expected_loss']].groupby('addr_state', as_index = False).sum() \\\n",
        "                                                  .sort_values('expected_loss', ascending = False)\n",
        "ls_state.columns = ['State', 'Expected Loss']"
      ],
      "execution_count": null,
      "outputs": []
    },
    {
      "cell_type": "code",
      "metadata": {
        "colab": {
          "base_uri": "https://localhost:8080/",
          "height": 652
        },
        "id": "eWeYUI7LsKkJ",
        "outputId": "a701a4c0-3e3b-46de-bfcd-191498828a94"
      },
      "source": [
        "ls_state.groupby('State')['Expected Loss'].mean().plot.bar(title='Expected Loss',figsize=(16, 10))"
      ],
      "execution_count": null,
      "outputs": [
        {
          "output_type": "execute_result",
          "data": {
            "text/plain": [
              "<matplotlib.axes._subplots.AxesSubplot at 0x7f6222c9d310>"
            ]
          },
          "metadata": {
            "tags": []
          },
          "execution_count": 351
        },
        {
          "output_type": "display_data",
          "data": {
            "image/png": "[encoded data removed]",
            "text/plain": [
              "<Figure size 1152x720 with 1 Axes>"
            ]
          },
          "metadata": {
            "tags": []
          }
        }
      ]
    },
    {
      "cell_type": "markdown",
      "metadata": {
        "id": "28YxRlgG7w6G"
      },
      "source": [
        "California, New York, and Texas are the top three states with the highest expected loss. We would suggest making significant efforts to collect outstanding payments in these state. Also, stronger scrutiny on requests from these states"
      ]
    },
    {
      "cell_type": "code",
      "metadata": {
        "id": "KH6rDokh7e94"
      },
      "source": [
        ""
      ],
      "execution_count": null,
      "outputs": []
    }
  ]
}